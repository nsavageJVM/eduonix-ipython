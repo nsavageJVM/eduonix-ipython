{
 "cells": [
  {
   "cell_type": "code",
   "execution_count": 59,
   "metadata": {
    "collapsed": true
   },
   "outputs": [],
   "source": [
    "import warnings\n",
    "warnings.filterwarnings('ignore')\n",
    "\n",
    "import sys\n",
    "import random\n",
    "import numpy as np\n",
    "import csv\n",
    "from sklearn import linear_model, cross_validation, metrics, svm\n",
    "from sklearn.metrics import confusion_matrix, precision_recall_fscore_support, accuracy_score\n",
    "from sklearn.ensemble import RandomForestClassifier\n",
    "from sklearn.preprocessing import StandardScaler\n",
    "import pandas as pd\n",
    "import matplotlib.pyplot as plt\n",
    "get_ipython().magic(u'matplotlib inline')"
   ]
  },
  {
   "cell_type": "code",
   "execution_count": 60,
   "metadata": {
    "collapsed": true
   },
   "outputs": [],
   "source": [
    "def read_tsv( cols, col_types=None):\n",
    "  fhandle = open('/root/temp/000000_0', 'r')\n",
    "  pieces = []\n",
    "  pieces.append(pd.read_csv(fhandle, names=cols, dtype=col_types,header=None, delimiter=\"\\t\"))\n",
    "  fhandle.close()\n",
    "  return pd.concat(pieces, ignore_index=True)"
   ]
  },
  {
   "cell_type": "code",
   "execution_count": 61,
   "metadata": {
    "collapsed": false
   },
   "outputs": [
    {
     "data": {
      "text/plain": [
       "<matplotlib.axes._subplots.AxesSubplot at 0x5442410>"
      ]
     },
     "execution_count": 61,
     "metadata": {},
     "output_type": "execute_result"
    },
    {
     "data": {
      "image/png": "[encoded data removed]",
      "text/plain": [
       "<matplotlib.figure.Figure at 0x56bea50>"
      ]
     },
     "metadata": {},
     "output_type": "display_data"
    }
   ],
   "source": [
    "cols = ['time', 'ip', 'country', 'status'];\n",
    "pHandle = read_tsv( cols)\n",
    "\n",
    "pHandle.shape\n",
    "\n",
    "df = pHandle[pHandle['country']=='US'].dropna(subset=['status'])\n",
    "df\n",
    "\n",
    "grouped = pHandle.groupby('country').count()\n",
    "grouped.plot(kind='bar')"
   ]
  },
  {
   "cell_type": "code",
   "execution_count": 62,
   "metadata": {
    "collapsed": false
   },
   "outputs": [
    {
     "name": "stdout",
     "output_type": "stream",
     "text": [
      "Overwriting preprocess1.pig\n"
     ]
    }
   ],
   "source": [
    "%%writefile preprocess1.pig\n",
    "DEFINE preprocess( ) returns data {\n",
    "    \n",
    "    tmp = LOAD '/root/data_1' using PigStorage(',')\n",
    "    as ( time: chararray, ip: chararray, country: chararray, status: chararray);\n",
    "    $data = filter tmp by country=='US';\n",
    "        };\n",
    "    data = preprocess();\n",
    "    STORE data INTO '/root/output';\n",
    "    copyToLocal /root/output /root/output)\n"
   ]
  },
  {
   "cell_type": "code",
   "execution_count": 63,
   "metadata": {
    "collapsed": false
   },
   "outputs": [
    {
     "name": "stdout",
     "output_type": "stream",
     "text": [
      "Starting job # 8 in a separate thread.\n"
     ]
    }
   ],
   "source": [
    "%%bash --err pig_out --bg \n",
    "pig -f preprocess1.pig"
   ]
  },
  {
   "cell_type": "code",
   "execution_count": 64,
   "metadata": {
    "collapsed": false
   },
   "outputs": [
    {
     "name": "stdout",
     "output_type": "stream",
     "text": [
      "WARNING: Use \"yarn jar\" to launch YARN applications.\n",
      "15/10/10 20:47:06 INFO pig.ExecTypeProvider: Trying ExecType : LOCAL\n",
      "15/10/10 20:47:06 INFO pig.ExecTypeProvider: Trying ExecType : MAPREDUCE\n",
      "15/10/10 20:47:06 INFO pig.ExecTypeProvider: Picked MAPREDUCE as the ExecType\n",
      "2015-10-10 20:47:06,523 [main] INFO  org.apache.pig.Main - Apache Pig version 0.15.0.2.3.0.0-2557 (rexported) compiled Jul 14 2015, 10:10:23\n",
      "2015-10-10 20:47:06,523 [main] INFO  org.apache.pig.Main - Logging error messages to: /usr/hdp/2.3.0.0-2557/pig/pig_1444510026521.log\n",
      "2015-10-10 20:47:07,871 [main] INFO  org.apache.pig.impl.util.Utils - Default bootup file /root/.pigbootup not found\n",
      "2015-10-10 20:47:08,093 [main] INFO  org.apache.pig.backend.hadoop.executionengine.HExecutionEngine - Connecting to hadoop file system at: hdfs://sandbox.hortonworks.com:8020\n",
      "2015-10-10 20:47:09,958 [main] INFO  org.apache.pig.tools.pigstats.ScriptState - Pig features used in the script: FILTER\n",
      "2015-10-10 20:47:10,020 [main] INFO  org.apache.pig.data.SchemaTupleBackend - Key [pig.schematuple] was not set... will not generate code.\n",
      "2015-10-10 20:47:10,073 [main] INFO  org.apache.pig.newplan.logical.optimizer.LogicalPlanOptimizer - {RULES_ENABLED=[AddForEach, ColumnMapKeyPrune, ConstantCalculator, GroupByConstParallelSetter, LimitOptimizer, LoadTypeCastInserter, MergeFilter, MergeForEach, PartitionFilterOptimizer, PredicatePushdownOptimizer, PushDownForEachFlatten, PushUpFilter, SplitFilter, StreamTypeCastInserter]}\n",
      "2015-10-10 20:47:10,284 [main] INFO  org.apache.pig.backend.hadoop.executionengine.mapReduceLayer.MRCompiler - File concatenation threshold: 100 optimistic? false\n",
      "2015-10-10 20:47:10,333 [main] INFO  org.apache.pig.backend.hadoop.executionengine.mapReduceLayer.MultiQueryOptimizer - MR plan size before optimization: 1\n",
      "2015-10-10 20:47:10,333 [main] INFO  org.apache.pig.backend.hadoop.executionengine.mapReduceLayer.MultiQueryOptimizer - MR plan size after optimization: 1\n",
      "2015-10-10 20:47:11,135 [main] INFO  org.apache.hadoop.yarn.client.api.impl.TimelineClientImpl - Timeline service address: http://sandbox.hortonworks.com:8188/ws/v1/timeline/\n",
      "2015-10-10 20:47:11,375 [main] INFO  org.apache.hadoop.yarn.client.RMProxy - Connecting to ResourceManager at sandbox.hortonworks.com/10.0.2.15:8050\n",
      "2015-10-10 20:47:11,736 [main] INFO  org.apache.pig.tools.pigstats.mapreduce.MRScriptState - Pig script settings are added to the job\n",
      "2015-10-10 20:47:11,747 [main] INFO  org.apache.pig.backend.hadoop.executionengine.mapReduceLayer.JobControlCompiler - mapred.job.reduce.markreset.buffer.percent is not set, set to default 0.3\n",
      "2015-10-10 20:47:11,753 [main] INFO  org.apache.pig.backend.hadoop.executionengine.mapReduceLayer.JobControlCompiler - This job cannot be converted run in-process\n",
      "2015-10-10 20:47:12,346 [main] INFO  org.apache.pig.backend.hadoop.executionengine.mapReduceLayer.JobControlCompiler - Added jar file:/usr/hdp/2.3.0.0-2557/pig/pig-0.15.0.2.3.0.0-2557-core-h2.jar to DistributedCache through /tmp/temp-185899652/tmp-1337514546/pig-0.15.0.2.3.0.0-2557-core-h2.jar\n",
      "2015-10-10 20:47:12,387 [main] INFO  org.apache.pig.backend.hadoop.executionengine.mapReduceLayer.JobControlCompiler - Added jar file:/usr/hdp/2.3.0.0-2557/pig/lib/automaton-1.11-8.jar to DistributedCache through /tmp/temp-185899652/tmp1758217466/automaton-1.11-8.jar\n",
      "2015-10-10 20:47:12,447 [main] INFO  org.apache.pig.backend.hadoop.executionengine.mapReduceLayer.JobControlCompiler - Added jar file:/usr/hdp/2.3.0.0-2557/pig/lib/antlr-runtime-3.4.jar to DistributedCache through /tmp/temp-185899652/tmp-255607268/antlr-runtime-3.4.jar\n",
      "2015-10-10 20:47:12,519 [main] INFO  org.apache.pig.backend.hadoop.executionengine.mapReduceLayer.JobControlCompiler - Added jar file:/usr/hdp/2.3.0.0-2557/hadoop-mapreduce/joda-time-2.8.1.jar to DistributedCache through /tmp/temp-185899652/tmp246124004/joda-time-2.8.1.jar\n",
      "2015-10-10 20:47:12,606 [main] INFO  org.apache.pig.backend.hadoop.executionengine.mapReduceLayer.JobControlCompiler - Setting up single store job\n",
      "2015-10-10 20:47:12,623 [main] INFO  org.apache.pig.data.SchemaTupleFrontend - Key [pig.schematuple] is false, will not generate code.\n",
      "2015-10-10 20:47:12,624 [main] INFO  org.apache.pig.data.SchemaTupleFrontend - Starting process to move generated code to distributed cacche\n",
      "2015-10-10 20:47:12,625 [main] INFO  org.apache.pig.data.SchemaTupleFrontend - Setting key [pig.schematuple.classes] with classes to deserialize []\n",
      "2015-10-10 20:47:12,739 [main] INFO  org.apache.pig.backend.hadoop.executionengine.mapReduceLayer.MapReduceLauncher - 1 map-reduce job(s) waiting for submission.\n",
      "2015-10-10 20:47:13,066 [JobControl] INFO  org.apache.hadoop.yarn.client.api.impl.TimelineClientImpl - Timeline service address: http://sandbox.hortonworks.com:8188/ws/v1/timeline/\n",
      "2015-10-10 20:47:13,069 [JobControl] INFO  org.apache.hadoop.yarn.client.RMProxy - Connecting to ResourceManager at sandbox.hortonworks.com/10.0.2.15:8050\n",
      "2015-10-10 20:47:13,233 [JobControl] WARN  org.apache.hadoop.mapreduce.JobResourceUploader - No job jar file set.  User classes may not be found. See Job or Job#setJar(String).\n",
      "2015-10-10 20:47:13,414 [JobControl] INFO  org.apache.hadoop.mapreduce.lib.input.FileInputFormat - Total input paths to process : 1\n",
      "2015-10-10 20:47:13,415 [JobControl] INFO  org.apache.pig.backend.hadoop.executionengine.util.MapRedUtil - Total input paths to process : 1\n",
      "2015-10-10 20:47:13,432 [JobControl] INFO  org.apache.pig.backend.hadoop.executionengine.util.MapRedUtil - Total input paths (combined) to process : 1\n",
      "2015-10-10 20:47:13,505 [JobControl] INFO  org.apache.hadoop.mapreduce.JobSubmitter - number of splits:1\n",
      "2015-10-10 20:47:13,981 [JobControl] INFO  org.apache.hadoop.mapreduce.JobSubmitter - Submitting tokens for job: job_1444504078024_0012\n",
      "2015-10-10 20:47:14,228 [JobControl] INFO  org.apache.hadoop.mapred.YARNRunner - Job jar is not present. Not adding any jar to the list of resources.\n",
      "2015-10-10 20:47:14,403 [JobControl] INFO  org.apache.hadoop.yarn.client.api.impl.YarnClientImpl - Submitted application application_1444504078024_0012\n",
      "2015-10-10 20:47:14,488 [JobControl] INFO  org.apache.hadoop.mapreduce.Job - The url to track the job: http://sandbox.hortonworks.com:8088/proxy/application_1444504078024_0012/\n",
      "2015-10-10 20:47:14,491 [main] INFO  org.apache.pig.backend.hadoop.executionengine.mapReduceLayer.MapReduceLauncher - HadoopJobId: job_1444504078024_0012\n",
      "2015-10-10 20:47:14,491 [main] INFO  org.apache.pig.backend.hadoop.executionengine.mapReduceLayer.MapReduceLauncher - Processing aliases data,macro_preprocess_tmp_0\n",
      "2015-10-10 20:47:14,491 [main] INFO  org.apache.pig.backend.hadoop.executionengine.mapReduceLayer.MapReduceLauncher - detailed locations: M: macro_preprocess_tmp_0[3,10],macro_preprocess_tmp_0[-1,-1],data[5,11] C:  R: \n",
      "2015-10-10 20:47:14,535 [main] INFO  org.apache.pig.backend.hadoop.executionengine.mapReduceLayer.MapReduceLauncher - 0% complete\n",
      "2015-10-10 20:47:14,535 [main] INFO  org.apache.pig.backend.hadoop.executionengine.mapReduceLayer.MapReduceLauncher - Running jobs are [job_1444504078024_0012]\n",
      "2015-10-10 20:47:31,678 [main] INFO  org.apache.pig.backend.hadoop.executionengine.mapReduceLayer.MapReduceLauncher - 50% complete\n",
      "2015-10-10 20:47:31,678 [main] INFO  org.apache.pig.backend.hadoop.executionengine.mapReduceLayer.MapReduceLauncher - Running jobs are [job_1444504078024_0012]\n",
      "2015-10-10 20:47:34,900 [main] INFO  org.apache.hadoop.yarn.client.api.impl.TimelineClientImpl - Timeline service address: http://sandbox.hortonworks.com:8188/ws/v1/timeline/\n",
      "2015-10-10 20:47:34,901 [main] INFO  org.apache.hadoop.yarn.client.RMProxy - Connecting to ResourceManager at sandbox.hortonworks.com/10.0.2.15:8050\n",
      "2015-10-10 20:47:34,911 [main] INFO  org.apache.hadoop.mapred.ClientServiceDelegate - Application state is completed. FinalApplicationStatus=SUCCEEDED. Redirecting to job history server\n",
      "2015-10-10 20:47:35,373 [main] INFO  org.apache.hadoop.yarn.client.api.impl.TimelineClientImpl - Timeline service address: http://sandbox.hortonworks.com:8188/ws/v1/timeline/\n",
      "2015-10-10 20:47:35,374 [main] INFO  org.apache.hadoop.yarn.client.RMProxy - Connecting to ResourceManager at sandbox.hortonworks.com/10.0.2.15:8050\n",
      "2015-10-10 20:47:35,380 [main] INFO  org.apache.hadoop.mapred.ClientServiceDelegate - Application state is completed. FinalApplicationStatus=SUCCEEDED. Redirecting to job history server\n",
      "2015-10-10 20:47:35,626 [main] INFO  org.apache.hadoop.yarn.client.api.impl.TimelineClientImpl - Timeline service address: http://sandbox.hortonworks.com:8188/ws/v1/timeline/\n",
      "2015-10-10 20:47:35,626 [main] INFO  org.apache.hadoop.yarn.client.RMProxy - Connecting to ResourceManager at sandbox.hortonworks.com/10.0.2.15:8050\n",
      "2015-10-10 20:47:35,634 [main] INFO  org.apache.hadoop.mapred.ClientServiceDelegate - Application state is completed. FinalApplicationStatus=SUCCEEDED. Redirecting to job history server\n",
      "2015-10-10 20:47:35,717 [main] INFO  org.apache.pig.backend.hadoop.executionengine.mapReduceLayer.MapReduceLauncher - 100% complete\n",
      "2015-10-10 20:47:35,720 [main] INFO  org.apache.pig.tools.pigstats.mapreduce.SimplePigStats - Script Statistics: \n",
      "\n",
      "HadoopVersion\tPigVersion\tUserId\tStartedAt\tFinishedAt\tFeatures\n",
      "2.7.1.2.3.0.0-2557\t0.15.0.2.3.0.0-2557\troot\t2015-10-10 20:47:11\t2015-10-10 20:47:35\tFILTER\n",
      "\n",
      "Success!\n",
      "\n",
      "Job Stats (time in seconds):\n",
      "JobId\tMaps\tReduces\tMaxMapTime\tMinMapTime\tAvgMapTime\tMedianMapTime\tMaxReduceTime\tMinReduceTime\tAvgReduceTime\tMedianReducetime\tAlias\tFeature\tOutputs\n",
      "job_1444504078024_0012\t1\t0\t6\t6\t6\t6\t0\t0\t0\t0\tdata,macro_preprocess_tmp_0\tMAP_ONLY\t/root/output,\n",
      "\n",
      "Input(s):\n",
      "Successfully read 4988 records (226342 bytes) from: \"/root/data_1\"\n",
      "\n",
      "Output(s):\n",
      "Successfully stored 2998 records (135778 bytes) in: \"/root/output\"\n",
      "\n",
      "Counters:\n",
      "Total records written : 2998\n",
      "Total bytes written : 135778\n",
      "Spillable Memory Manager spill count : 0\n",
      "Total bags proactively spilled: 0\n",
      "Total records proactively spilled: 0\n",
      "\n",
      "Job DAG:\n",
      "job_1444504078024_0012\n",
      "\n",
      "\n",
      "2015-10-10 20:47:35,880 [main] INFO  org.apache.hadoop.yarn.client.api.impl.TimelineClientImpl - Timeline service address: http://sandbox.hortonworks.com:8188/ws/v1/timeline/\n",
      "2015-10-10 20:47:35,880 [main] INFO  org.apache.hadoop.yarn.client.RMProxy - Connecting to ResourceManager at sandbox.hortonworks.com/10.0.2.15:8050\n",
      "2015-10-10 20:47:35,889 [main] INFO  org.apache.hadoop.mapred.ClientServiceDelegate - Application state is completed. FinalApplicationStatus=SUCCEEDED. Redirecting to job history server\n",
      "2015-10-10 20:47:36,091 [main] INFO  org.apache.hadoop.yarn.client.api.impl.TimelineClientImpl - Timeline service address: http://sandbox.hortonworks.com:8188/ws/v1/timeline/\n",
      "2015-10-10 20:47:36,091 [main] INFO  org.apache.hadoop.yarn.client.RMProxy - Connecting to ResourceManager at sandbox.hortonworks.com/10.0.2.15:8050\n",
      "2015-10-10 20:47:36,098 [main] INFO  org.apache.hadoop.mapred.ClientServiceDelegate - Application state is completed. FinalApplicationStatus=SUCCEEDED. Redirecting to job history server\n",
      "2015-10-10 20:47:36,302 [main] INFO  org.apache.hadoop.yarn.client.api.impl.TimelineClientImpl - Timeline service address: http://sandbox.hortonworks.com:8188/ws/v1/timeline/\n",
      "2015-10-10 20:47:36,302 [main] INFO  org.apache.hadoop.yarn.client.RMProxy - Connecting to ResourceManager at sandbox.hortonworks.com/10.0.2.15:8050\n",
      "2015-10-10 20:47:36,311 [main] INFO  org.apache.hadoop.mapred.ClientServiceDelegate - Application state is completed. FinalApplicationStatus=SUCCEEDED. Redirecting to job history server\n",
      "2015-10-10 20:47:36,369 [main] INFO  org.apache.pig.backend.hadoop.executionengine.mapReduceLayer.MapReduceLauncher - Success!\n",
      "2015-10-10 20:47:36,579 [main] ERROR org.apache.pig.tools.grunt.Grunt - ERROR 1000: Error during parsing. Lexical error at line 9, column 42.  Encountered: \")\" (41), after : \"\"\n",
      "Details at logfile: /usr/hdp/2.3.0.0-2557/pig/pig_1444510026521.log\n",
      "2015-10-10 20:47:36,609 [main] INFO  org.apache.pig.Main - Pig script completed in 30 seconds and 281 milliseconds (30281 ms)\n"
     ]
    }
   ],
   "source": [
    "while True:\n",
    "    line = pig_out.readline()\n",
    "    if not line: \n",
    "        break\n",
    "    sys.stdout.write(\"%s\" % line)\n",
    "    sys.stdout.flush()"
   ]
  },
  {
   "cell_type": "code",
   "execution_count": 65,
   "metadata": {
    "collapsed": true
   },
   "outputs": [],
   "source": [
    "def read_dataset(cols):\n",
    "  fhandle = open('/root/output/part-m-00000', 'r')\n",
    "  pieces = []\n",
    "  pieces.append(pd.read_csv(fhandle, names=cols, dtype=None,header=None, delimiter=\"\\t\"))\n",
    "  fhandle.close()\n",
    "  return pd.concat(pieces, ignore_index=True)"
   ]
  },
  {
   "cell_type": "code",
   "execution_count": 66,
   "metadata": {
    "collapsed": false
   },
   "outputs": [
    {
     "data": {
      "text/plain": [
       "(2998, 4)"
      ]
     },
     "execution_count": 66,
     "metadata": {},
     "output_type": "execute_result"
    }
   ],
   "source": [
    "cols = ['time', 'ip', 'country', 'status'];\n",
    "pHandle = read_dataset( cols)\n",
    "\n",
    "pHandle.shape"
   ]
  },
  {
   "cell_type": "code",
   "execution_count": 69,
   "metadata": {
    "collapsed": false
   },
   "outputs": [
    {
     "data": {
      "text/html": [
       "<div>\n",
       "<table border=\"1\" class=\"dataframe\">\n",
       "  <thead>\n",
       "    <tr style=\"text-align: right;\">\n",
       "      <th></th>\n",
       "      <th>time</th>\n",
       "      <th>ip</th>\n",
       "      <th>country</th>\n",
       "      <th>status</th>\n",
       "    </tr>\n",
       "  </thead>\n",
       "  <tbody>\n",
       "    <tr>\n",
       "      <th>10</th>\n",
       "      <td>2015-10-07T15:50:26</td>\n",
       "      <td>159.128.147.226</td>\n",
       "      <td>US</td>\n",
       "      <td>SUCCESS</td>\n",
       "    </tr>\n",
       "    <tr>\n",
       "      <th>14</th>\n",
       "      <td>2015-10-07T15:50:26</td>\n",
       "      <td>205.244.156.140</td>\n",
       "      <td>US</td>\n",
       "      <td>SUCCESS</td>\n",
       "    </tr>\n",
       "  </tbody>\n",
       "</table>\n",
       "</div>"
      ],
      "text/plain": [
       "                   time               ip country   status\n",
       "10  2015-10-07T15:50:26  159.128.147.226      US  SUCCESS\n",
       "14  2015-10-07T15:50:26  205.244.156.140      US  SUCCESS"
      ]
     },
     "execution_count": 69,
     "metadata": {},
     "output_type": "execute_result"
    }
   ],
   "source": [
    "# note data is randomly generated so go to /root/output/part-m-00000 \n",
    "# and select values that exist for the query\n",
    "values = ['159.128.147.226', '205.244.156.140']\n",
    "df2 = pHandle[pHandle['ip'].isin(values)]\n",
    "df2"
   ]
  },
  {
   "cell_type": "code",
   "execution_count": null,
   "metadata": {
    "collapsed": true
   },
   "outputs": [],
   "source": []
  }
 ],
 "metadata": {
  "kernelspec": {
   "display_name": "Python 2",
   "language": "python",
   "name": "python2"
  },
  "language_info": {
   "codemirror_mode": {
    "name": "ipython",
    "version": 2
   },
   "file_extension": ".py",
   "mimetype": "text/x-python",
   "name": "python",
   "nbconvert_exporter": "python",
   "pygments_lexer": "ipython2",
   "version": "2.7.5"
  }
 },
 "nbformat": 4,
 "nbformat_minor": 0
}
