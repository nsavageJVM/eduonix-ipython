{
 "cells": [
  {
   "cell_type": "code",
   "execution_count": 669,
   "metadata": {
    "collapsed": true
   },
   "outputs": [],
   "source": [
    "# Python library imports: numpy, random, sklearn, pandas, etc\n",
    "\n",
    "import warnings\n",
    "warnings.filterwarnings('ignore')\n",
    "\n",
    "import sys\n",
    "import random\n",
    "import numpy as np\n",
    "\n",
    "from sklearn import linear_model, cross_validation, metrics, svm\n",
    "from sklearn.metrics import confusion_matrix, precision_recall_fscore_support, accuracy_score\n",
    "from sklearn.ensemble import RandomForestClassifier\n",
    "from sklearn.preprocessing import StandardScaler\n",
    "\n",
    "import pandas as pd\n",
    "import matplotlib.pyplot as plt\n",
    "%matplotlib inline\n",
    "\n"
   ]
  },
  {
   "cell_type": "code",
   "execution_count": 670,
   "metadata": {
    "collapsed": false
   },
   "outputs": [],
   "source": [
    "# function to read HDFS file into dataframe using PyDoop\n",
    "import pydoop.hdfs as hdfs\n",
    "def read_csv_from_hdfs( path ):\n",
    "  pieces = []\n",
    "  fhandle = hdfs.open(path)\n",
    "  print \"validating file : %s\" % fhandle\n",
    "  cols = ['key', 'value'];\n",
    "  pieces.append(pd.read_csv(fhandle, names=cols, dtype=None, delimiter=\"\\t\"))\n",
    "  fhandle.close()\n",
    "  return pd.concat(pieces, ignore_index=True)"
   ]
  },
  {
   "cell_type": "code",
   "execution_count": 671,
   "metadata": {
    "collapsed": false
   },
   "outputs": [],
   "source": [
    "def extract_data_as_frame(in_data ):\n",
    "    # dataset LONGITUDE  LATITUDE  T_DAILY_MEAN  SUR_TEMP_DAILY_AVG  SOIL_MOISTURE_10_DAILY\n",
    "    data_list = []\n",
    "    for index in data_val2:\n",
    "        dict1 = {}\n",
    "        x= float(index[3])  \n",
    "        if x < -30:\n",
    "            continue\n",
    "        x= float(index[2])  \n",
    "        if x < -30:\n",
    "            continue\n",
    "        dict1.update(lat=index[1],lon=index[0], day=float(index[2]), surface=float(index[3]), moisture=float(index[4])) \n",
    "        data_list.append(dict1)\n",
    "    data_as_frame = pd.DataFrame(data_list, columns=['lat', 'lon', 'day', 'surface', 'moisture'])\n",
    "    return data_as_frame"
   ]
  },
  {
   "cell_type": "code",
   "execution_count": 672,
   "metadata": {
    "collapsed": false
   },
   "outputs": [],
   "source": [
    "def extract_geo_data(in_data ):\n",
    "    geo_list = []\n",
    "    for index in data_val2:\n",
    "        dict1 = {}\n",
    "        dict1.update(lat=index[1],lon=index[0]) \n",
    "        geo_list.append(dict1)\n",
    "    geo_key = pd.DataFrame(geo_list, columns=['lat', 'lon'])\n",
    "    return geo_key"
   ]
  },
  {
   "cell_type": "code",
   "execution_count": 673,
   "metadata": {
    "collapsed": true
   },
   "outputs": [],
   "source": [
    "def extract_temp_data(in_data ):\n",
    "    temp_list = []\n",
    "    for index in data_val2:\n",
    "        dict1 = {}\n",
    "        dict1.update(day=index[2],surface=index[3]) \n",
    "        temp_list.append(dict1)\n",
    "    temp_values = pd.DataFrame(temp_list, columns=['day', 'surface'])\n",
    "    return temp_values"
   ]
  },
  {
   "cell_type": "code",
   "execution_count": 674,
   "metadata": {
    "collapsed": true
   },
   "outputs": [],
   "source": [
    "def extract_soil_mositure(in_data ):\n",
    "    moisture_list = []\n",
    "    for index in data_val2:\n",
    "        dict1 = {}\n",
    "        dict1.update(moisture=index[4] ) \n",
    "        moisture_list.append(dict1)\n",
    "    moisture_values = pd.DataFrame(moisture_list, columns=['moisture'])\n",
    "    return moisture_values"
   ]
  },
  {
   "cell_type": "code",
   "execution_count": 675,
   "metadata": {
    "collapsed": false
   },
   "outputs": [
    {
     "name": "stdout",
     "output_type": "stream",
     "text": [
      "validating file : <pydoop.hdfs.file.hdfs_file object at 0x247fc6d0>\n"
     ]
    },
    {
     "data": {
      "text/plain": [
       "<matplotlib.axes._subplots.AxesSubplot at 0x1f26c250>"
      ]
     },
     "execution_count": 675,
     "metadata": {},
     "output_type": "execute_result"
    },
    {
     "data": {
      "image/png": "[encoded data removed]",
      "text/plain": [
       "<matplotlib.figure.Figure at 0x247fc610>"
      ]
     },
     "metadata": {},
     "output_type": "display_data"
    }
   ],
   "source": [
    "result = read_csv_from_hdfs('/user/cloudera/sci_data_1_out.txt/part-r-00000')\n",
    "data_val =  result.iloc[:,[1]]\n",
    "# data_val2 will be a series so we convert it to useful dataframes \n",
    "# dataset LONGITUDE  LATITUDE  T_DAILY_MEAN  SUR_TEMP_DAILY_AVG  SOIL_MOISTURE_10_DAILY\n",
    "data_val2 = data_val.value.str.split('|')\n",
    "data_as_frame =extract_data_as_frame(data_val2 )\n",
    "len(data_as_frame) \n",
    "bymoisture = data_as_frame.head(40).groupby(['moisture']).mean() \n",
    "bymoisture[:2].plot(kind='bar')"
   ]
  }
 ],
 "metadata": {
  "kernelspec": {
   "display_name": "Python 2",
   "language": "python",
   "name": "python2"
  },
  "language_info": {
   "codemirror_mode": {
    "name": "ipython",
    "version": 2
   },
   "file_extension": ".py",
   "mimetype": "text/x-python",
   "name": "python",
   "nbconvert_exporter": "python",
   "pygments_lexer": "ipython2",
   "version": "2.7.5"
  }
 },
 "nbformat": 4,
 "nbformat_minor": 0
}
